{
 "cells": [
  {
   "cell_type": "markdown",
   "metadata": {
    "colab_type": "text",
    "id": "fOJX-SzBioco"
   },
   "source": [
    "# **Центральная предельная теорема своими руками**"
   ]
  },
  {
   "cell_type": "markdown",
   "metadata": {
    "colab_type": "text",
    "id": "ZCMCRKBeivSu"
   },
   "source": [
    "В качестве непрерывного распределения выбрал распределение Парето. Подробнее о нем можно почить на [Википедии](https://ru.wikipedia.org/wiki/%D0%A0%D0%B0%D1%81%D0%BF%D1%80%D0%B5%D0%B4%D0%B5%D0%BB%D0%B5%D0%BD%D0%B8%D0%B5_%D0%9F%D0%B0%D1%80%D0%B5%D1%82%D0%BE)\n",
    "\n",
    "\n",
    "\n",
    "Испортируем необходимые для исследования библиотеки и модули"
   ]
  },
  {
   "cell_type": "code",
   "execution_count": 2,
   "metadata": {
    "colab": {},
    "colab_type": "code",
    "id": "zNS6ebMFde22"
   },
   "outputs": [],
   "source": [
    "import numpy as np\n",
    "import matplotlib.pyplot as plt\n",
    "import scipy.stats as sts\n",
    "%matplotlib inline\n",
    "import math"
   ]
  },
  {
   "cell_type": "markdown",
   "metadata": {
    "colab_type": "text",
    "id": "W1NFWVDun3eV"
   },
   "source": [
    "Определим функцию плотности вероятности и моменты случайной величины, имеющей распределение Парето"
   ]
  },
  {
   "cell_type": "markdown",
   "metadata": {
    "colab_type": "text",
    "id": "bNE1QJ_poGwD"
   },
   "source": [
    "Функция плотности вероятности:<br> $f_X(x) = kx^k_m/x^k+1$ , при $x >= x_m$ <br>$f_X(x) = 0$ при $x < x_m$"
   ]
  },
  {
   "cell_type": "markdown",
   "metadata": {
    "colab_type": "text",
    "id": "U8XmKzRKk9CN"
   },
   "source": [
    "Определим мат. ожидание и дисперсию в соответствии с распределением Парето:"
   ]
  },
  {
   "cell_type": "markdown",
   "metadata": {
    "colab_type": "text",
    "id": "zzuoHmyYqwSZ"
   },
   "source": [
    "Мат. ожидание:<br> $E[x]=x(m)k/k−1$  , где $x(m)$-минимальное значение (в scipy.pareto по умолчанию $x(m)=1)$, а k -> это параметр b - \"коэффициент кривизны\""
   ]
  },
  {
   "cell_type": "markdown",
   "metadata": {
    "colab_type": "text",
    "id": "7unpgWImq_RX"
   },
   "source": [
    "Дисперсия:<br>\n",
    "$E[x]=(x(m)k/k−1)^2 * (k/k-2)$, при $k > 2$"
   ]
  },
  {
   "cell_type": "markdown",
   "metadata": {
    "colab_type": "text",
    "id": "Uddd_2rtsH5W"
   },
   "source": [
    "В расчетах будем пользоваться коэффициентом кривизны, равным $3$\n"
   ]
  },
  {
   "cell_type": "code",
   "execution_count": 3,
   "metadata": {
    "colab": {
     "base_uri": "https://localhost:8080/",
     "height": 50
    },
    "colab_type": "code",
    "id": "5yPoQsONsQCy",
    "outputId": "9fe613d2-0d75-4f9f-da8a-4abe339a5b35"
   },
   "outputs": [
    {
     "name": "stdout",
     "output_type": "stream",
     "text": [
      "1.5\n",
      "6.75\n"
     ]
    }
   ],
   "source": [
    "#посчитаем мат ожидание(среднее) и дисперсию\n",
    "xm=1.#минимальное значение\n",
    "k=3.# k -> это параметр b - \"коэффициент кривизны\"\n",
    "E=(xm*k)/(k-1)#мат ожидание(среднее)\n",
    "D=(E**2)*(k/(k-2))#дисперсия\n",
    "print (E)\n",
    "print (D)"
   ]
  },
  {
   "cell_type": "code",
   "execution_count": 4,
   "metadata": {
    "colab": {
     "base_uri": "https://localhost:8080/",
     "height": 296
    },
    "colab_type": "code",
    "id": "rxW40i9_sUm8",
    "outputId": "e601f119-13ed-4f11-e9c6-0812a40d14f8"
   },
   "outputs": [
    {
     "data": {
      "text/plain": [
       "<matplotlib.legend.Legend at 0x287fe7f5518>"
      ]
     },
     "execution_count": 4,
     "metadata": {},
     "output_type": "execute_result"
    },
    {
     "data": {
      "image/png": "[encoded data removed]",
      "text/plain": [
       "<Figure size 432x288 with 1 Axes>"
      ]
     },
     "metadata": {
      "needs_background": "light"
     },
     "output_type": "display_data"
    }
   ],
   "source": [
    "#генерируем выборку объема 1000\n",
    "pareto = sts.pareto(b=3)#задаем функцию\n",
    "sample = pareto.rvs(1000)#генерируем случайную выборку из 1000 значений\n",
    "x = np.linspace(1,10,1000)#определяем массив точек для построения плотности распределения\n",
    "pdf = pareto.pdf(x)#вычисляем значения плотности распределения от выборки\n",
    "#строим гистрограмму выборки и теоретическую функцию распределения\n",
    "plt.plot(x, pdf, label='theoretical PDF')\n",
    "plt.hist(sample, bins =50, range=(1,10), density = True, color = 'purple')\n",
    "plt.ylabel('$f(x)$/number of samples')\n",
    "plt.xlabel('$x$')\n",
    "plt.legend(loc='best')"
   ]
  },
  {
   "cell_type": "markdown",
   "metadata": {
    "colab_type": "text",
    "id": "0SyULQWmPwDB"
   },
   "source": [
    "Оценим распределение выборочного среднего случайной величины при разных объёмах выборок"
   ]
  },
  {
   "cell_type": "markdown",
   "metadata": {
    "colab_type": "text",
    "id": "AseN9FreQlhl"
   },
   "source": [
    "при n = 5"
   ]
  },
  {
   "cell_type": "code",
   "execution_count": 5,
   "metadata": {
    "colab": {
     "base_uri": "https://localhost:8080/",
     "height": 296
    },
    "colab_type": "code",
    "id": "yd5qQNZOtxfK",
    "outputId": "4244bf4d-2456-4822-e7c4-c3e47a011ec0"
   },
   "outputs": [
    {
     "data": {
      "text/plain": [
       "<matplotlib.legend.Legend at 0x287fe990c50>"
      ]
     },
     "execution_count": 5,
     "metadata": {},
     "output_type": "execute_result"
    },
    {
     "data": {
      "image/png": "[encoded data removed]",
      "text/plain": [
       "<Figure size 432x288 with 1 Axes>"
      ]
     },
     "metadata": {
      "needs_background": "light"
     },
     "output_type": "display_data"
    }
   ],
   "source": [
    "n=5\n",
    "sample5=np.array([])#обозначим массив выборочных средних\n",
    "i=1\n",
    "while i <= 1000:#цикл генерации случайных выборок количества n из функции\n",
    "    sample5i = pareto.rvs(n)#генерация выборки\n",
    "    mean5i=sum(sample5i)/n#определение выборочного среднего (в.с.)\n",
    "    sample5=np.append(sample5,mean5i)#добавляем в массив новое значение в.с.\n",
    "    i+=1\n",
    "#определим параметры нормального распределения описывающие массив 1000 в.с. при n=5\n",
    "E=1.5#среднее Парето\n",
    "D=6.75#дисперсия Парето\n",
    "D5=D/n#дисперсия для нормального распределения приближающего выборку средних\n",
    "sigma5=math.sqrt(D5)#сигма для нормального распределения выборки средних\n",
    "norm5 = sts.norm(E, sigma5)#определяем нормальное распределение с расчетными характеристиками Парето\n",
    "pdf5 = norm5.pdf(x[:500])#получаем плотность распределения\n",
    "#строим гистограмму массива средних при n=5 и плотность описывающую этот массив нормального распределения\n",
    "plt.plot(x[:500], pdf5, label='PDF(n=5)')\n",
    "plt.hist(sample5, bins =80, range=(0,5), density=True)\n",
    "plt.ylabel('number of samples')\n",
    "plt.xlabel('$x$')\n",
    "plt.legend(loc='best')"
   ]
  },
  {
   "cell_type": "markdown",
   "metadata": {
    "colab_type": "text",
    "id": "XcYT0gpAQhiU"
   },
   "source": [
    "при n = 30"
   ]
  },
  {
   "cell_type": "code",
   "execution_count": 6,
   "metadata": {
    "colab": {
     "base_uri": "https://localhost:8080/",
     "height": 296
    },
    "colab_type": "code",
    "id": "yEo580mTu-rI",
    "outputId": "442eebd1-3dba-4142-d04f-ae1882d2aae1"
   },
   "outputs": [
    {
     "data": {
      "text/plain": [
       "<matplotlib.legend.Legend at 0x287fe992048>"
      ]
     },
     "execution_count": 6,
     "metadata": {},
     "output_type": "execute_result"
    },
    {
     "data": {
      "image/png": "[encoded data removed]",
      "text/plain": [
       "<Figure size 432x288 with 1 Axes>"
      ]
     },
     "metadata": {
      "needs_background": "light"
     },
     "output_type": "display_data"
    }
   ],
   "source": [
    "n=30\n",
    "sample30=np.array([])#обозначим массив выборочных средних\n",
    "i=1\n",
    "while i <= 1000:#цикл генерации случайных выборок количества n из функции\n",
    "    sample30i = pareto.rvs(n)#генерация выборки\n",
    "    mean30i=sum(sample30i)/n#определение выборочного среднего (в.с.)\n",
    "    sample30=np.append(sample30,mean30i)#добавляем в массив новое значение в.с.\n",
    "    i+=1\n",
    "#определим параметры нормального распределения описывающие массив 1000 в.с. при n=30\n",
    "E=1.5#среднее Парето\n",
    "D=6.75#дисперсия Парето\n",
    "D30=D/n#дисперсия для нормального распределения приближающего выборку средних\n",
    "sigma30=math.sqrt(D30)#сигма для нормального распределения выборки средних\n",
    "norm30 = sts.norm(E, sigma30)#определяем нормальное распределение с расчетными характеристиками Парето\n",
    "pdf30 = norm30.pdf(x[:300])#получаем плотность распределения\n",
    "#строим гистограмму массива средних при n=30 и плотность описывающую этот массив нормального распределения\n",
    "plt.plot(x[:300], pdf30, label='PDF(n=30)')\n",
    "plt.hist(sample30, bins =80, range=(0,3), density=True)\n",
    "plt.ylabel('number of samples')\n",
    "plt.xlabel('$x$')\n",
    "plt.legend(loc='best')"
   ]
  },
  {
   "cell_type": "markdown",
   "metadata": {
    "colab_type": "text",
    "id": "TiCUGe0BQo4p"
   },
   "source": [
    "при n = 100"
   ]
  },
  {
   "cell_type": "code",
   "execution_count": 7,
   "metadata": {
    "colab": {
     "base_uri": "https://localhost:8080/",
     "height": 296
    },
    "colab_type": "code",
    "id": "q0R4QDOcOG5Z",
    "outputId": "85dc1ebe-e5fa-4965-ce62-e3d7f32081ae"
   },
   "outputs": [
    {
     "data": {
      "text/plain": [
       "<matplotlib.legend.Legend at 0x287febb4ef0>"
      ]
     },
     "execution_count": 7,
     "metadata": {},
     "output_type": "execute_result"
    },
    {
     "data": {
      "image/png": "[encoded data removed]",
      "text/plain": [
       "<Figure size 432x288 with 1 Axes>"
      ]
     },
     "metadata": {
      "needs_background": "light"
     },
     "output_type": "display_data"
    }
   ],
   "source": [
    "n=100\n",
    "sample100=np.array([])#обозначим массив выборочных средних\n",
    "i=1\n",
    "while i <= 1000:#цикл генерации случайных выборок количества n из функции\n",
    "    sample100i = pareto.rvs(n)#генерация выборки\n",
    "    mean100i=sum(sample100i)/n#определение выборочного среднего (в.с.)\n",
    "    sample100=np.append(sample100,mean100i)#добавляем в массив новое значение в.с.\n",
    "    i+=1\n",
    "#определим параметры нормального распределения описывающие массив 1000 в.с. при n=100\n",
    "E=1.5#среднее Парето\n",
    "D=6.75#дисперсия Парето\n",
    "D100=D/n#дисперсия для нормального распределения выборки средних\n",
    "sigma100=math.sqrt(D100)#сигма для нормального распределения выборки средних\n",
    "norm100 = sts.norm(E, sigma100)#определяем нормальное распределение с расчетными характеристиками Парето\n",
    "pdf100 = norm100.pdf(x[:300])#получаем плотность распределения\n",
    "#строим гистограмму массива средних при n=100 и плотность описывающую этот массив нормального распределения\n",
    "plt.plot(x[:300], pdf100, label='PDF(n=100)')\n",
    "plt.hist(sample100, bins =80, range=(0,3), density=True)\n",
    "plt.ylabel('number of samples')\n",
    "plt.xlabel('$x$')\n",
    "plt.legend(loc='best')"
   ]
  },
  {
   "cell_type": "markdown",
   "metadata": {
    "colab_type": "text",
    "id": "f0m-FCRlRNUF"
   },
   "source": [
    "при n = 500"
   ]
  },
  {
   "cell_type": "code",
   "execution_count": 8,
   "metadata": {
    "colab": {
     "base_uri": "https://localhost:8080/",
     "height": 296
    },
    "colab_type": "code",
    "id": "U2iY7emfQumx",
    "outputId": "dd57783b-aeca-44bc-9881-2063d73a12e6"
   },
   "outputs": [
    {
     "data": {
      "text/plain": [
       "<matplotlib.legend.Legend at 0x287fece1be0>"
      ]
     },
     "execution_count": 8,
     "metadata": {},
     "output_type": "execute_result"
    },
    {
     "data": {
      "image/png": "[encoded data removed]",
      "text/plain": [
       "<Figure size 432x288 with 1 Axes>"
      ]
     },
     "metadata": {
      "needs_background": "light"
     },
     "output_type": "display_data"
    }
   ],
   "source": [
    "n=500\n",
    "sample500=np.array([])#обозначим массив выборочных средних\n",
    "i=1\n",
    "while i <= 1000:#цикл генерации случайных выборок количества n из функции\n",
    "    sample500i = pareto.rvs(n)#генерация выборки\n",
    "    mean500i=sum(sample500i)/n#определение выборочного среднего (в.с.)\n",
    "    sample500=np.append(sample500,mean500i)#добавляем в массив новое значение в.с.\n",
    "    i+=1\n",
    "#определим параметры нормального распределения описывающие массив 1000 в.с. при n=500\n",
    "E=1.5#среднее Парето\n",
    "D=6.75#дисперсия Парето\n",
    "D500=D/n#дисперсия для нормального распределения выборки средних\n",
    "sigma500=math.sqrt(D500)#сигма для нормального распределения выборки средних\n",
    "norm500 = sts.norm(E, sigma500)#определяем нормальное распределение с расчетными характеристиками Парето\n",
    "pdf500 = norm500.pdf(x[:300])#получаем плотность распределения\n",
    "#строим гистограмму массива средних при n=500 и плотность описывающую этот массив нормального распределения\n",
    "plt.plot(x[:300], pdf500, label='PDF(n=500)')\n",
    "plt.hist(sample500, bins =80, range=(0,3), density=True)\n",
    "plt.ylabel('number of samples')\n",
    "plt.xlabel('$x$')\n",
    "plt.legend(loc='best')"
   ]
  },
  {
   "cell_type": "markdown",
   "metadata": {
    "colab_type": "text",
    "id": "mZoDnOWdRRZk"
   },
   "source": [
    "при n = 1000"
   ]
  },
  {
   "cell_type": "code",
   "execution_count": 9,
   "metadata": {
    "colab": {
     "base_uri": "https://localhost:8080/",
     "height": 296
    },
    "colab_type": "code",
    "id": "Q3Z6F2JNOG9-",
    "outputId": "c86002db-4368-4f40-ce1a-c3a1209b1d35"
   },
   "outputs": [
    {
     "data": {
      "text/plain": [
       "<matplotlib.legend.Legend at 0x287ffdd8898>"
      ]
     },
     "execution_count": 9,
     "metadata": {},
     "output_type": "execute_result"
    },
    {
     "data": {
      "image/png": "[encoded data removed]",
      "text/plain": [
       "<Figure size 432x288 with 1 Axes>"
      ]
     },
     "metadata": {
      "needs_background": "light"
     },
     "output_type": "display_data"
    }
   ],
   "source": [
    "n=1000\n",
    "y = np.linspace(1,3,1000)\n",
    "sample1000=np.array([])#обозначим массив выборочных средних\n",
    "i=1\n",
    "while i <= 1000:#цикл генерации случайных выборок количества n из функции\n",
    "    sample1000i = pareto.rvs(n)#генерация выборки\n",
    "    mean1000i=sum(sample1000i)/n#определение выборочного среднего (в.с.)\n",
    "    sample1000=np.append(sample1000,mean1000i)#добавляем в массив новое значение в.с.\n",
    "    i+=1\n",
    "#определим параметры нормального распределения описывающие массив 1000 в.с. при n=1000\n",
    "E=1.5#среднее Парето\n",
    "D=6.75#дисперсия Парето\n",
    "D1000=D/n#дисперсия для нормального распределения выборки средних\n",
    "sigma1000=math.sqrt(D1000)#сигма для нормального распределения выборки средних\n",
    "norm1000 = sts.norm(E, sigma1000)#определяем нормальное распределение с расчетными характеристиками Парето\n",
    "pdf1000 = norm1000.pdf(y)#получаем плотность распределения\n",
    "#строим гистограмму массива средних при n=1000 и плотность описывающую этот массив нормального распределения\n",
    "plt.plot(y, pdf1000, label='PDF(n=1000)')\n",
    "plt.hist(sample1000, bins =80, range=(1,2), density=True)\n",
    "plt.ylabel('number of samples')\n",
    "plt.xlabel('$x$')\n",
    "plt.legend(loc='best')"
   ]
  },
  {
   "cell_type": "markdown",
   "metadata": {
    "colab_type": "text",
    "id": "KJt-__B1TIu-"
   },
   "source": [
    "# ВЫВОДЫ"
   ]
  },
  {
   "cell_type": "markdown",
   "metadata": {
    "colab_type": "text",
    "id": "TNqAaH4sTTDi"
   },
   "source": [
    "Из списка доступных в модуле SciPy функций  была выбрана функция распределения Парето. Условия задачи выполнены: из выбранного распределения была сгенерирована выборка объемом 1000, построенна гистограмма с теоретической плотностью распределения. Оценено распределение выборочного среднего при разных объёмах выборок n(5, 30, 100, 500, 1000), измерены их выборочные средние и составлены соостветствующие массивы, по массивам выборочных средних построены гистограммы распределения, исходя из теоретических данных определены соответствующие каждому n параметры распределений для апроксимации, по полученным параметрам построены функции нормального распределения для каждого n поверх соответствующих гистограмм.<br><br>\n",
    "Исследование в очередной раз подтвердило выводы центральной предельной теоремы о приближении независимых случайно распределенных величин к нормальному распределению с ростом объема выборки, хотя и в итоговый результат внесены искажения из-за особенностей функции Парето, главным из которых является граница значений, что приводит к ограничению искомой апроксимирующей функции. Так же заметна скошенность проявляющаяся в несимметричности распределения относительно центра. Из-за перечисленных недостатков функция сходится медленно, и более качественный результат наблюдается при больших n, например, при n = 1000"
   ]
  }
 ],
 "metadata": {
  "colab": {
   "collapsed_sections": [],
   "name": "CPT.ipynb",
   "provenance": []
  },
  "kernelspec": {
   "display_name": "Python 3",
   "language": "python",
   "name": "python3"
  },
  "language_info": {
   "codemirror_mode": {
    "name": "ipython",
    "version": 3
   },
   "file_extension": ".py",
   "mimetype": "text/x-python",
   "name": "python",
   "nbconvert_exporter": "python",
   "pygments_lexer": "ipython3",
   "version": "3.7.3"
  }
 },
 "nbformat": 4,
 "nbformat_minor": 1
}
